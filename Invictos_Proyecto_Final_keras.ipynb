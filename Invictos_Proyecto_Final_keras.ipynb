{
  "nbformat": 4,
  "nbformat_minor": 0,
  "metadata": {
    "colab": {
      "name": "Invictos_Proyecto_Final_keras.ipynb",
      "version": "0.3.2",
      "provenance": [],
      "collapsed_sections": [],
      "toc_visible": true
    },
    "kernelspec": {
      "name": "python3",
      "display_name": "Python 3"
    },
    "accelerator": "GPU"
  },
  "cells": [
    {
      "metadata": {
        "id": "pbedr9Lf-Y2e",
        "colab_type": "code",
        "outputId": "f7c06b8f-d4d1-4c9c-fdb8-d7acd4b5c179",
        "colab": {
          "base_uri": "https://localhost:8080/",
          "height": 34
        }
      },
      "cell_type": "code",
      "source": [
        "!nvidia-smi -L"
      ],
      "execution_count": 1,
      "outputs": [
        {
          "output_type": "stream",
          "text": [
            "GPU 0: Tesla K80 (UUID: GPU-534c92b1-d0c4-521f-c011-5c5bb20afca4)\n"
          ],
          "name": "stdout"
        }
      ]
    },
    {
      "metadata": {
        "id": "VWlfXMzG50Zk",
        "colab_type": "code",
        "colab": {
          "base_uri": "https://localhost:8080/",
          "height": 34
        },
        "outputId": "63e812ef-0fb0-4d17-e71e-31061448b0fe"
      },
      "cell_type": "code",
      "source": [
        "import sys\n",
        "import keras\n",
        "from keras.models import Sequential\n",
        "from keras.layers import Conv2D, MaxPooling2D, Flatten, Dense, Dropout\n",
        "import numpy as np\n",
        "from keras.utils import np_utils\n"
      ],
      "execution_count": 2,
      "outputs": [
        {
          "output_type": "stream",
          "text": [
            "Using TensorFlow backend.\n"
          ],
          "name": "stderr"
        }
      ]
    },
    {
      "metadata": {
        "id": "6YkY-Cr39jUl",
        "colab_type": "code",
        "colab": {}
      },
      "cell_type": "code",
      "source": [
        "import tensorflow as tf\n",
        "session_conf = tf.ConfigProto(intra_op_parallelism_threads=1,\n",
        "                              inter_op_parallelism_threads=1)\n",
        "\n",
        "from keras import backend as K\n",
        "\n",
        "# The below tf.set_random_seed() will make random number generation\n",
        "# in the TensorFlow backend have a well-defined initial state.\n",
        "# For further details, see:\n",
        "# https://www.tensorflow.org/api_docs/python/tf/set_random_seed\n",
        "\n",
        "sess = tf.Session(graph=tf.get_default_graph(), config=session_conf)\n",
        "K.set_session(sess)"
      ],
      "execution_count": 0,
      "outputs": []
    },
    {
      "metadata": {
        "id": "fX7vGJ__EbNu",
        "colab_type": "code",
        "colab": {}
      },
      "cell_type": "code",
      "source": [
        "def preprocess_features(images):\n",
        "    # Convert pixel values from 0-255 to 0-1\n",
        "    images = images.astype('float32')/255\n",
        "    return images\n",
        "\n",
        "\n",
        "def one_hot_label(labels, num_classes=10, log=False):\n",
        "    labels = keras.utils.to_categorical(labels, num_classes)\n",
        "\n",
        "    if log == True:\n",
        "\t    print('One-hot encoded labels.')\n",
        "\t    print('Example image label', labels[0])\n",
        "    return labels"
      ],
      "execution_count": 0,
      "outputs": []
    },
    {
      "metadata": {
        "id": "RqdZXsrcEdmW",
        "colab_type": "code",
        "colab": {}
      },
      "cell_type": "code",
      "source": [
        "def load_dataset():\n",
        "    print('Loading MNIST dataset')\n",
        "    (x_train, y_train), (x_test, y_test) = keras.datasets.mnist.load_data()\n",
        "    print('Shape of image: ', x_train[0].shape)\n",
        "    return x_train, y_train, x_test, y_test\n",
        "\n",
        "\n",
        "def extract(display_images=False, reshape_input=False, one_hot=True):\n",
        "    x_train, y_train, x_test, y_test = load_dataset()\n",
        "\n",
        "    #Preprocess features\n",
        "    x_train = preprocess_features(x_train)\n",
        "    x_test = preprocess_features(x_test)\n",
        "\n",
        "    #Preprocess label\n",
        "    if one_hot:\n",
        "        y_train = one_hot_label(y_train, log=True)\n",
        "        y_test = one_hot_label(y_test)\n",
        "\n",
        "    if reshape_input:\n",
        "        x_train = x_train.reshape((x_train.shape[0], 28, 28, 1))\n",
        "        x_test = x_test.reshape((x_test.shape[0], 28, 28, 1))\n",
        "\n",
        "    print('x_train shape:', x_train.shape)\n",
        "    print(x_train.shape[0], 'train samples')\n",
        "    print(x_test.shape[0], 'test samples')\n",
        "\n",
        "    return x_train, y_train,  x_test, y_test"
      ],
      "execution_count": 0,
      "outputs": []
    },
    {
      "metadata": {
        "id": "rCdMtpdcEo-S",
        "colab_type": "code",
        "colab": {}
      },
      "cell_type": "code",
      "source": [
        "def build_model():\n",
        "    # Convolutional Neural Network\n",
        "    model = Sequential()\n",
        "    model.add(Conv2D(filters=4,\n",
        "                    kernel_size=2,\n",
        "                    padding='same', \n",
        "                    activation='relu',\n",
        "                    input_shape=(28, 28, 1)))\n",
        "    model.add(Conv2D(filters=4,\n",
        "                    kernel_size=2,\n",
        "                    padding='same',\n",
        "                    activation='relu'))\n",
        "    model.add(MaxPooling2D(pool_size=2, strides=4))\n",
        "\n",
        "    # Deep Neural Network\n",
        "    model.add(Flatten())\n",
        "    model.add(Dense(128, activation='relu'))\n",
        "    model.add(Dense(10, activation='softmax'))\n",
        "\n",
        "    model.summary()\n",
        "\n",
        "    return model"
      ],
      "execution_count": 0,
      "outputs": []
    },
    {
      "metadata": {
        "id": "Pmh6kc_pErd5",
        "colab_type": "code",
        "outputId": "b95adcef-ac83-445c-e998-0f40a5a8cd5a",
        "colab": {
          "base_uri": "https://localhost:8080/",
          "height": 578
        }
      },
      "cell_type": "code",
      "source": [
        "x_train, y_train, x_test, y_test = extract(reshape_input=True)\n",
        "\n",
        "# Build and compile model\n",
        "model = build_model()\n",
        "model.compile(loss='categorical_crossentropy', optimizer='adam', metrics=['accuracy'])\n",
        "\n",
        "# Fit data for training set\n",
        "print('fitting')\n",
        "hist = model.fit(x_train, y_train, batch_size=32, epochs=1,\n",
        "      verbose=1, shuffle=True)\n",
        "\n",
        "score = model.evaluate(x_test, y_test, verbose=0)\n",
        "print('\\n', 'Test accuracy:', score[1])"
      ],
      "execution_count": 7,
      "outputs": [
        {
          "output_type": "stream",
          "text": [
            "Loading MNIST dataset\n",
            "Downloading data from https://s3.amazonaws.com/img-datasets/mnist.npz\n",
            "11493376/11490434 [==============================] - 2s 0us/step\n",
            "Shape of image:  (28, 28)\n",
            "One-hot encoded labels.\n",
            "Example image label [0. 0. 0. 0. 0. 1. 0. 0. 0. 0.]\n",
            "x_train shape: (60000, 28, 28, 1)\n",
            "60000 train samples\n",
            "10000 test samples\n",
            "_________________________________________________________________\n",
            "Layer (type)                 Output Shape              Param #   \n",
            "=================================================================\n",
            "conv2d_1 (Conv2D)            (None, 28, 28, 4)         20        \n",
            "_________________________________________________________________\n",
            "conv2d_2 (Conv2D)            (None, 28, 28, 4)         68        \n",
            "_________________________________________________________________\n",
            "max_pooling2d_1 (MaxPooling2 (None, 7, 7, 4)           0         \n",
            "_________________________________________________________________\n",
            "flatten_1 (Flatten)          (None, 196)               0         \n",
            "_________________________________________________________________\n",
            "dense_1 (Dense)              (None, 128)               25216     \n",
            "_________________________________________________________________\n",
            "dense_2 (Dense)              (None, 10)                1290      \n",
            "=================================================================\n",
            "Total params: 26,594\n",
            "Trainable params: 26,594\n",
            "Non-trainable params: 0\n",
            "_________________________________________________________________\n",
            "fitting\n",
            "Epoch 1/1\n",
            "60000/60000 [==============================] - 16s 268us/step - loss: 0.3373 - acc: 0.9009\n",
            "\n",
            " Test accuracy: 0.9461\n"
          ],
          "name": "stdout"
        }
      ]
    },
    {
      "metadata": {
        "id": "l31oDk09Etn6",
        "colab_type": "code",
        "colab": {}
      },
      "cell_type": "code",
      "source": [
        ""
      ],
      "execution_count": 0,
      "outputs": []
    }
  ]
}